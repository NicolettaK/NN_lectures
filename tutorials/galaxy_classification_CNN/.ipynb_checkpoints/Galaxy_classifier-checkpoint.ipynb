{
 "cells": [
  {
   "cell_type": "markdown",
   "metadata": {},
   "source": [
    "# Galaxy classification with Convolutional Neural Networks\n",
    "In this tutorial we build a CNN to perform Galaxy classification.\n",
    "The dataset comes from the Galaxy Zoo Challenge and it is publicy available here:\n",
    "\n",
    "https://www.kaggle.com/c/galaxy-zoo-the-galaxy-challenge\n",
    "\n",
    "and described here:\n",
    "\n",
    "http://arxiv.org/abs/1308.3496\n",
    "\n",
    "The original dataset include more than 60,000 galaxy images, classified in 37 classes.\n",
    "\n",
    "Here we use a simplified version of it, which include 6167 Galaxies classified in 3 classes: Round, Disk edge-on or Spiral.\n",
    "\n",
    "To build, train and test the CNN we use keras with the tensorflow backend. \n",
    "Below we import the necessary modules."
   ]
  },
  {
   "cell_type": "code",
   "execution_count": 3,
   "metadata": {},
   "outputs": [],
   "source": [
    "import numpy as np\n",
    "import pandas as pd\n",
    "from sklearn.model_selection import train_test_split\n",
    "from skimage.transform import resize\n",
    "from tqdm import tqdm\n",
    "import matplotlib.pyplot as plt\n",
    "%matplotlib inline\n",
    "import keras\n",
    "from keras.datasets import mnist\n",
    "from keras.models import Sequential, load_model\n",
    "from keras.layers import Dense, Dropout, Flatten\n",
    "from keras.layers import Conv2D, MaxPooling2D\n",
    "from keras import backend as K"
   ]
  },
  {
   "cell_type": "markdown",
   "metadata": {},
   "source": [
    "load the file with the original classification of the full galaxy zoo dataset and print a subsection of it"
   ]
  },
  {
   "cell_type": "code",
   "execution_count": 4,
   "metadata": {},
   "outputs": [],
   "source": [
    "df = pd.read_csv('./training_solutions_rev1.csv')"
   ]
  },
  {
   "cell_type": "code",
   "execution_count": 5,
   "metadata": {},
   "outputs": [
    {
     "data": {
      "text/html": [
       "<div>\n",
       "<style scoped>\n",
       "    .dataframe tbody tr th:only-of-type {\n",
       "        vertical-align: middle;\n",
       "    }\n",
       "\n",
       "    .dataframe tbody tr th {\n",
       "        vertical-align: top;\n",
       "    }\n",
       "\n",
       "    .dataframe thead th {\n",
       "        text-align: right;\n",
       "    }\n",
       "</style>\n",
       "<table border=\"1\" class=\"dataframe\">\n",
       "  <thead>\n",
       "    <tr style=\"text-align: right;\">\n",
       "      <th></th>\n",
       "      <th>GalaxyID</th>\n",
       "      <th>Class1.1</th>\n",
       "      <th>Class1.2</th>\n",
       "      <th>Class1.3</th>\n",
       "      <th>Class2.1</th>\n",
       "      <th>Class2.2</th>\n",
       "      <th>Class3.1</th>\n",
       "      <th>Class3.2</th>\n",
       "      <th>Class4.1</th>\n",
       "      <th>Class4.2</th>\n",
       "      <th>...</th>\n",
       "      <th>Class9.3</th>\n",
       "      <th>Class10.1</th>\n",
       "      <th>Class10.2</th>\n",
       "      <th>Class10.3</th>\n",
       "      <th>Class11.1</th>\n",
       "      <th>Class11.2</th>\n",
       "      <th>Class11.3</th>\n",
       "      <th>Class11.4</th>\n",
       "      <th>Class11.5</th>\n",
       "      <th>Class11.6</th>\n",
       "    </tr>\n",
       "  </thead>\n",
       "  <tbody>\n",
       "    <tr>\n",
       "      <th>0</th>\n",
       "      <td>100008</td>\n",
       "      <td>0.383147</td>\n",
       "      <td>0.616853</td>\n",
       "      <td>0.000000</td>\n",
       "      <td>0.000000</td>\n",
       "      <td>0.616853</td>\n",
       "      <td>0.038452</td>\n",
       "      <td>0.578401</td>\n",
       "      <td>0.418398</td>\n",
       "      <td>0.198455</td>\n",
       "      <td>...</td>\n",
       "      <td>0.000000</td>\n",
       "      <td>0.279952</td>\n",
       "      <td>0.138445</td>\n",
       "      <td>0.000000</td>\n",
       "      <td>0.000000</td>\n",
       "      <td>0.092886</td>\n",
       "      <td>0.000000</td>\n",
       "      <td>0.000000</td>\n",
       "      <td>0.000000</td>\n",
       "      <td>0.325512</td>\n",
       "    </tr>\n",
       "    <tr>\n",
       "      <th>1</th>\n",
       "      <td>100023</td>\n",
       "      <td>0.327001</td>\n",
       "      <td>0.663777</td>\n",
       "      <td>0.009222</td>\n",
       "      <td>0.031178</td>\n",
       "      <td>0.632599</td>\n",
       "      <td>0.467370</td>\n",
       "      <td>0.165229</td>\n",
       "      <td>0.591328</td>\n",
       "      <td>0.041271</td>\n",
       "      <td>...</td>\n",
       "      <td>0.018764</td>\n",
       "      <td>0.000000</td>\n",
       "      <td>0.131378</td>\n",
       "      <td>0.459950</td>\n",
       "      <td>0.000000</td>\n",
       "      <td>0.591328</td>\n",
       "      <td>0.000000</td>\n",
       "      <td>0.000000</td>\n",
       "      <td>0.000000</td>\n",
       "      <td>0.000000</td>\n",
       "    </tr>\n",
       "    <tr>\n",
       "      <th>2</th>\n",
       "      <td>100053</td>\n",
       "      <td>0.765717</td>\n",
       "      <td>0.177352</td>\n",
       "      <td>0.056931</td>\n",
       "      <td>0.000000</td>\n",
       "      <td>0.177352</td>\n",
       "      <td>0.000000</td>\n",
       "      <td>0.177352</td>\n",
       "      <td>0.000000</td>\n",
       "      <td>0.177352</td>\n",
       "      <td>...</td>\n",
       "      <td>0.000000</td>\n",
       "      <td>0.000000</td>\n",
       "      <td>0.000000</td>\n",
       "      <td>0.000000</td>\n",
       "      <td>0.000000</td>\n",
       "      <td>0.000000</td>\n",
       "      <td>0.000000</td>\n",
       "      <td>0.000000</td>\n",
       "      <td>0.000000</td>\n",
       "      <td>0.000000</td>\n",
       "    </tr>\n",
       "    <tr>\n",
       "      <th>3</th>\n",
       "      <td>100078</td>\n",
       "      <td>0.693377</td>\n",
       "      <td>0.238564</td>\n",
       "      <td>0.068059</td>\n",
       "      <td>0.000000</td>\n",
       "      <td>0.238564</td>\n",
       "      <td>0.109493</td>\n",
       "      <td>0.129071</td>\n",
       "      <td>0.189098</td>\n",
       "      <td>0.049466</td>\n",
       "      <td>...</td>\n",
       "      <td>0.000000</td>\n",
       "      <td>0.094549</td>\n",
       "      <td>0.000000</td>\n",
       "      <td>0.094549</td>\n",
       "      <td>0.189098</td>\n",
       "      <td>0.000000</td>\n",
       "      <td>0.000000</td>\n",
       "      <td>0.000000</td>\n",
       "      <td>0.000000</td>\n",
       "      <td>0.000000</td>\n",
       "    </tr>\n",
       "    <tr>\n",
       "      <th>4</th>\n",
       "      <td>100090</td>\n",
       "      <td>0.933839</td>\n",
       "      <td>0.000000</td>\n",
       "      <td>0.066161</td>\n",
       "      <td>0.000000</td>\n",
       "      <td>0.000000</td>\n",
       "      <td>0.000000</td>\n",
       "      <td>0.000000</td>\n",
       "      <td>0.000000</td>\n",
       "      <td>0.000000</td>\n",
       "      <td>...</td>\n",
       "      <td>0.000000</td>\n",
       "      <td>0.000000</td>\n",
       "      <td>0.000000</td>\n",
       "      <td>0.000000</td>\n",
       "      <td>0.000000</td>\n",
       "      <td>0.000000</td>\n",
       "      <td>0.000000</td>\n",
       "      <td>0.000000</td>\n",
       "      <td>0.000000</td>\n",
       "      <td>0.000000</td>\n",
       "    </tr>\n",
       "    <tr>\n",
       "      <th>5</th>\n",
       "      <td>100122</td>\n",
       "      <td>0.738832</td>\n",
       "      <td>0.238159</td>\n",
       "      <td>0.023009</td>\n",
       "      <td>0.000000</td>\n",
       "      <td>0.238159</td>\n",
       "      <td>0.000000</td>\n",
       "      <td>0.238159</td>\n",
       "      <td>0.000000</td>\n",
       "      <td>0.238159</td>\n",
       "      <td>...</td>\n",
       "      <td>0.000000</td>\n",
       "      <td>0.000000</td>\n",
       "      <td>0.000000</td>\n",
       "      <td>0.000000</td>\n",
       "      <td>0.000000</td>\n",
       "      <td>0.000000</td>\n",
       "      <td>0.000000</td>\n",
       "      <td>0.000000</td>\n",
       "      <td>0.000000</td>\n",
       "      <td>0.000000</td>\n",
       "    </tr>\n",
       "    <tr>\n",
       "      <th>6</th>\n",
       "      <td>100123</td>\n",
       "      <td>0.462492</td>\n",
       "      <td>0.456033</td>\n",
       "      <td>0.081475</td>\n",
       "      <td>0.000000</td>\n",
       "      <td>0.456033</td>\n",
       "      <td>0.000000</td>\n",
       "      <td>0.456033</td>\n",
       "      <td>0.000000</td>\n",
       "      <td>0.456033</td>\n",
       "      <td>...</td>\n",
       "      <td>0.000000</td>\n",
       "      <td>0.000000</td>\n",
       "      <td>0.000000</td>\n",
       "      <td>0.000000</td>\n",
       "      <td>0.000000</td>\n",
       "      <td>0.000000</td>\n",
       "      <td>0.000000</td>\n",
       "      <td>0.000000</td>\n",
       "      <td>0.000000</td>\n",
       "      <td>0.000000</td>\n",
       "    </tr>\n",
       "    <tr>\n",
       "      <th>7</th>\n",
       "      <td>100128</td>\n",
       "      <td>0.687783</td>\n",
       "      <td>0.288344</td>\n",
       "      <td>0.023873</td>\n",
       "      <td>0.000000</td>\n",
       "      <td>0.288344</td>\n",
       "      <td>0.069098</td>\n",
       "      <td>0.219246</td>\n",
       "      <td>0.000000</td>\n",
       "      <td>0.288344</td>\n",
       "      <td>...</td>\n",
       "      <td>0.000000</td>\n",
       "      <td>0.000000</td>\n",
       "      <td>0.000000</td>\n",
       "      <td>0.000000</td>\n",
       "      <td>0.000000</td>\n",
       "      <td>0.000000</td>\n",
       "      <td>0.000000</td>\n",
       "      <td>0.000000</td>\n",
       "      <td>0.000000</td>\n",
       "      <td>0.000000</td>\n",
       "    </tr>\n",
       "    <tr>\n",
       "      <th>8</th>\n",
       "      <td>100134</td>\n",
       "      <td>0.021834</td>\n",
       "      <td>0.976952</td>\n",
       "      <td>0.001214</td>\n",
       "      <td>0.021751</td>\n",
       "      <td>0.955201</td>\n",
       "      <td>0.313077</td>\n",
       "      <td>0.642124</td>\n",
       "      <td>0.546491</td>\n",
       "      <td>0.408711</td>\n",
       "      <td>...</td>\n",
       "      <td>0.021751</td>\n",
       "      <td>0.207253</td>\n",
       "      <td>0.152044</td>\n",
       "      <td>0.187194</td>\n",
       "      <td>0.000000</td>\n",
       "      <td>0.000000</td>\n",
       "      <td>0.054649</td>\n",
       "      <td>0.081974</td>\n",
       "      <td>0.081974</td>\n",
       "      <td>0.327894</td>\n",
       "    </tr>\n",
       "    <tr>\n",
       "      <th>9</th>\n",
       "      <td>100143</td>\n",
       "      <td>0.269843</td>\n",
       "      <td>0.730157</td>\n",
       "      <td>0.000000</td>\n",
       "      <td>0.730157</td>\n",
       "      <td>0.000000</td>\n",
       "      <td>0.000000</td>\n",
       "      <td>0.000000</td>\n",
       "      <td>0.000000</td>\n",
       "      <td>0.000000</td>\n",
       "      <td>...</td>\n",
       "      <td>0.168728</td>\n",
       "      <td>0.000000</td>\n",
       "      <td>0.000000</td>\n",
       "      <td>0.000000</td>\n",
       "      <td>0.000000</td>\n",
       "      <td>0.000000</td>\n",
       "      <td>0.000000</td>\n",
       "      <td>0.000000</td>\n",
       "      <td>0.000000</td>\n",
       "      <td>0.000000</td>\n",
       "    </tr>\n",
       "  </tbody>\n",
       "</table>\n",
       "<p>10 rows × 38 columns</p>\n",
       "</div>"
      ],
      "text/plain": [
       "   GalaxyID  Class1.1  Class1.2  Class1.3  Class2.1  Class2.2  Class3.1  \\\n",
       "0    100008  0.383147  0.616853  0.000000  0.000000  0.616853  0.038452   \n",
       "1    100023  0.327001  0.663777  0.009222  0.031178  0.632599  0.467370   \n",
       "2    100053  0.765717  0.177352  0.056931  0.000000  0.177352  0.000000   \n",
       "3    100078  0.693377  0.238564  0.068059  0.000000  0.238564  0.109493   \n",
       "4    100090  0.933839  0.000000  0.066161  0.000000  0.000000  0.000000   \n",
       "5    100122  0.738832  0.238159  0.023009  0.000000  0.238159  0.000000   \n",
       "6    100123  0.462492  0.456033  0.081475  0.000000  0.456033  0.000000   \n",
       "7    100128  0.687783  0.288344  0.023873  0.000000  0.288344  0.069098   \n",
       "8    100134  0.021834  0.976952  0.001214  0.021751  0.955201  0.313077   \n",
       "9    100143  0.269843  0.730157  0.000000  0.730157  0.000000  0.000000   \n",
       "\n",
       "   Class3.2  Class4.1  Class4.2  ...  Class9.3  Class10.1  Class10.2  \\\n",
       "0  0.578401  0.418398  0.198455  ...  0.000000   0.279952   0.138445   \n",
       "1  0.165229  0.591328  0.041271  ...  0.018764   0.000000   0.131378   \n",
       "2  0.177352  0.000000  0.177352  ...  0.000000   0.000000   0.000000   \n",
       "3  0.129071  0.189098  0.049466  ...  0.000000   0.094549   0.000000   \n",
       "4  0.000000  0.000000  0.000000  ...  0.000000   0.000000   0.000000   \n",
       "5  0.238159  0.000000  0.238159  ...  0.000000   0.000000   0.000000   \n",
       "6  0.456033  0.000000  0.456033  ...  0.000000   0.000000   0.000000   \n",
       "7  0.219246  0.000000  0.288344  ...  0.000000   0.000000   0.000000   \n",
       "8  0.642124  0.546491  0.408711  ...  0.021751   0.207253   0.152044   \n",
       "9  0.000000  0.000000  0.000000  ...  0.168728   0.000000   0.000000   \n",
       "\n",
       "   Class10.3  Class11.1  Class11.2  Class11.3  Class11.4  Class11.5  Class11.6  \n",
       "0   0.000000   0.000000   0.092886   0.000000   0.000000   0.000000   0.325512  \n",
       "1   0.459950   0.000000   0.591328   0.000000   0.000000   0.000000   0.000000  \n",
       "2   0.000000   0.000000   0.000000   0.000000   0.000000   0.000000   0.000000  \n",
       "3   0.094549   0.189098   0.000000   0.000000   0.000000   0.000000   0.000000  \n",
       "4   0.000000   0.000000   0.000000   0.000000   0.000000   0.000000   0.000000  \n",
       "5   0.000000   0.000000   0.000000   0.000000   0.000000   0.000000   0.000000  \n",
       "6   0.000000   0.000000   0.000000   0.000000   0.000000   0.000000   0.000000  \n",
       "7   0.000000   0.000000   0.000000   0.000000   0.000000   0.000000   0.000000  \n",
       "8   0.187194   0.000000   0.000000   0.054649   0.081974   0.081974   0.327894  \n",
       "9   0.000000   0.000000   0.000000   0.000000   0.000000   0.000000   0.000000  \n",
       "\n",
       "[10 rows x 38 columns]"
      ]
     },
     "execution_count": 5,
     "metadata": {},
     "output_type": "execute_result"
    }
   ],
   "source": [
    "df[0:10]"
   ]
  },
  {
   "cell_type": "markdown",
   "metadata": {},
   "source": [
    "some functions to load the original images (not used in this tutorial as the simplified version of the datasets has been already prepared)"
   ]
  },
  {
   "cell_type": "code",
   "execution_count": 6,
   "metadata": {},
   "outputs": [],
   "source": [
    "ORIG_SHAPE = (424,424)\n",
    "CROP_SIZE = (256,256)\n",
    "IMG_SHAPE = (64,64)\n",
    "\n",
    "def get_image(path, x1, y1, shape, crop_size):\n",
    "    x = plt.imread(path)\n",
    "    x = x[x1:x1+crop_size[0], y1:y1+crop_size[1]]\n",
    "    x = resize(x, shape)\n",
    "    x = x/255.\n",
    "    return x\n",
    "    \n",
    "def get_all_images(dataframe, shape=IMG_SHAPE, crop_size=CROP_SIZE):\n",
    "    x1 = (ORIG_SHAPE[0]-CROP_SIZE[0])//2\n",
    "    y1 = (ORIG_SHAPE[1]-CROP_SIZE[1])//2\n",
    "   \n",
    "    sel = dataframe.values\n",
    "    ids = sel[:,0].astype(int).astype(str)\n",
    "    y_batch = sel[:,1:]\n",
    "    x_batch = []\n",
    "    for i in tqdm(ids):\n",
    "        x = get_image('./images_training_rev1/'+i+'.jpg', x1,y1, shape=shape, crop_size=crop_size)\n",
    "        x_batch.append(x)\n",
    "    x_batch = np.array(x_batch)\n",
    "    return x_batch, y_batch\n",
    "\n",
    "def get_labels(dataframe):\n",
    "    sel = dataframe.values\n",
    "    ids = sel[:,0].astype(int).astype(str)\n",
    "    y_batch = sel[:,1:]\n",
    "    return y_batch"
   ]
  },
  {
   "cell_type": "markdown",
   "metadata": {},
   "source": [
    "load already prepared simplified dataset, images in the X array, labels in the y array"
   ]
  },
  {
   "cell_type": "markdown",
   "metadata": {},
   "source": [
    "**Note**: the file *sel_data.npz* with the needed galaxy images should be downloaded from here:\n",
    "https://www.dropbox.com/s/b723my0vghjdo9a/sel_data.npz?dl=0"
   ]
  },
  {
   "cell_type": "code",
   "execution_count": 17,
   "metadata": {},
   "outputs": [],
   "source": [
    "data = np.load('sel_data.npz')\n",
    "X = data['X']\n",
    "y = data['y']"
   ]
  },
  {
   "cell_type": "code",
   "execution_count": 18,
   "metadata": {},
   "outputs": [
    {
     "name": "stdout",
     "output_type": "stream",
     "text": [
      "(6167, 64, 64, 3) (6167, 3)\n"
     ]
    }
   ],
   "source": [
    "print(X.shape, y.shape)"
   ]
  },
  {
   "cell_type": "markdown",
   "metadata": {},
   "source": [
    "plot a random image of the dataset together with its class"
   ]
  },
  {
   "cell_type": "code",
   "execution_count": 19,
   "metadata": {},
   "outputs": [],
   "source": [
    "def print_class(y):\n",
    "    gal_class = np.argmax(y)\n",
    "    if gal_class==0:\n",
    "        print('This is a round Galaxy')\n",
    "    if gal_class==1:\n",
    "        print('This is a Galaxy with disk edge-on')\n",
    "    if gal_class==2:\n",
    "        print('This is a spiral Galaxy')"
   ]
  },
  {
   "cell_type": "code",
   "execution_count": 20,
   "metadata": {},
   "outputs": [
    {
     "name": "stdout",
     "output_type": "stream",
     "text": [
      "This is a spiral Galaxy\n"
     ]
    },
    {
     "data": {
      "image/png": "[encoded data removed]",
      "text/plain": [
       "<Figure size 432x288 with 1 Axes>"
      ]
     },
     "metadata": {},
     "output_type": "display_data"
    }
   ],
   "source": [
    "t = np.random.randint(len(X))\n",
    "plt.imshow(X[t]*255)\n",
    "print_class(y[t])"
   ]
  },
  {
   "cell_type": "markdown",
   "metadata": {},
   "source": [
    "Divide dataset into training (80%), validation (10%) and test set (10%)"
   ]
  },
  {
   "cell_type": "code",
   "execution_count": 21,
   "metadata": {},
   "outputs": [
    {
     "name": "stderr",
     "output_type": "stream",
     "text": [
      "/Users/niki/Library/miniconda3/envs/py36n/lib/python3.6/site-packages/ipykernel_launcher.py:6: DeprecationWarning: in the future out of bounds indices will raise an error instead of being ignored by `numpy.delete`.\n",
      "  \n"
     ]
    }
   ],
   "source": [
    "Ntot = len(X)\n",
    "tot_ind = np.arange(Ntot)\n",
    "train_ind = np.random.randint(0, Ntot, int(Ntot*0.8))\n",
    "tot_ind = np.delete(tot_ind, train_ind)\n",
    "val_ind = np.random.choice(tot_ind,int(len(tot_ind)/2))\n",
    "test_ind = np.delete(tot_ind, val_ind)"
   ]
  },
  {
   "cell_type": "code",
   "execution_count": 22,
   "metadata": {},
   "outputs": [],
   "source": [
    "X_train = X[train_ind]\n",
    "y_train = y[train_ind]\n",
    "X_val = X[val_ind]\n",
    "y_val = y[val_ind]\n",
    "X_test = X[test_ind]\n",
    "y_test = y[test_ind]"
   ]
  },
  {
   "cell_type": "markdown",
   "metadata": {},
   "source": [
    "Build the CNN, compile and train/validate it"
   ]
  },
  {
   "cell_type": "code",
   "execution_count": 23,
   "metadata": {},
   "outputs": [
    {
     "name": "stdout",
     "output_type": "stream",
     "text": [
      "WARNING:tensorflow:From /Users/niki/Library/miniconda3/envs/py36n/lib/python3.6/site-packages/tensorflow/python/framework/op_def_library.py:263: colocate_with (from tensorflow.python.framework.ops) is deprecated and will be removed in a future version.\n",
      "Instructions for updating:\n",
      "Colocations handled automatically by placer.\n",
      "WARNING:tensorflow:From /Users/niki/Library/miniconda3/envs/py36n/lib/python3.6/site-packages/keras/backend/tensorflow_backend.py:3445: calling dropout (from tensorflow.python.ops.nn_ops) with keep_prob is deprecated and will be removed in a future version.\n",
      "Instructions for updating:\n",
      "Please use `rate` instead of `keep_prob`. Rate should be set to `rate = 1 - keep_prob`.\n"
     ]
    }
   ],
   "source": [
    "model = Sequential()\n",
    "model.add(Conv2D(16, kernel_size=(5, 5),\n",
    "                 activation='relu',\n",
    "                 input_shape=(64, 64, 3)))\n",
    "model.add(MaxPooling2D(pool_size=(2, 2)))\n",
    "model.add(Conv2D(64, (5, 5), activation='relu'))\n",
    "model.add(MaxPooling2D(pool_size=(2, 2)))\n",
    "model.add(Conv2D(128, (5, 5), activation='relu'))\n",
    "model.add(MaxPooling2D(pool_size=(2, 2)))\n",
    "model.add(Flatten())\n",
    "model.add(Dense(128, activation='relu'))\n",
    "model.add(Dropout(0.5))\n",
    "model.add(Dense(3, activation='softmax'))\n"
   ]
  },
  {
   "cell_type": "code",
   "execution_count": 24,
   "metadata": {},
   "outputs": [
    {
     "name": "stdout",
     "output_type": "stream",
     "text": [
      "_________________________________________________________________\n",
      "Layer (type)                 Output Shape              Param #   \n",
      "=================================================================\n",
      "conv2d_1 (Conv2D)            (None, 60, 60, 16)        1216      \n",
      "_________________________________________________________________\n",
      "max_pooling2d_1 (MaxPooling2 (None, 30, 30, 16)        0         \n",
      "_________________________________________________________________\n",
      "conv2d_2 (Conv2D)            (None, 26, 26, 64)        25664     \n",
      "_________________________________________________________________\n",
      "max_pooling2d_2 (MaxPooling2 (None, 13, 13, 64)        0         \n",
      "_________________________________________________________________\n",
      "conv2d_3 (Conv2D)            (None, 9, 9, 128)         204928    \n",
      "_________________________________________________________________\n",
      "max_pooling2d_3 (MaxPooling2 (None, 4, 4, 128)         0         \n",
      "_________________________________________________________________\n",
      "flatten_1 (Flatten)          (None, 2048)              0         \n",
      "_________________________________________________________________\n",
      "dense_1 (Dense)              (None, 128)               262272    \n",
      "_________________________________________________________________\n",
      "dropout_1 (Dropout)          (None, 128)               0         \n",
      "_________________________________________________________________\n",
      "dense_2 (Dense)              (None, 3)                 387       \n",
      "=================================================================\n",
      "Total params: 494,467\n",
      "Trainable params: 494,467\n",
      "Non-trainable params: 0\n",
      "_________________________________________________________________\n"
     ]
    }
   ],
   "source": [
    "model.summary()"
   ]
  },
  {
   "cell_type": "markdown",
   "metadata": {},
   "source": [
    "**Note:** training should be done on GPUs, if you are not running on GPUs skip this part and load the pretrained model"
   ]
  },
  {
   "cell_type": "code",
   "execution_count": 26,
   "metadata": {
    "scrolled": true
   },
   "outputs": [
    {
     "name": "stdout",
     "output_type": "stream",
     "text": [
      "Train on 4933 samples, validate on 1380 samples\n",
      "Epoch 1/1\n",
      "4933/4933 [==============================] - 30s 6ms/step - loss: 0.9144 - acc: 0.4885 - val_loss: 0.9163 - val_acc: 0.5522\n"
     ]
    }
   ],
   "source": [
    "model.compile(loss=keras.losses.categorical_crossentropy,\n",
    "              optimizer=keras.optimizers.Adam(),\n",
    "              metrics=['accuracy'])\n",
    "\n",
    "cnn_history = model.fit(X_train, y_train,\n",
    "          batch_size=128,\n",
    "          epochs=1,\n",
    "          verbose=1, validation_data=(X_val, y_val))"
   ]
  },
  {
   "cell_type": "code",
   "execution_count": 27,
   "metadata": {
    "collapsed": true
   },
   "outputs": [
    {
     "data": {
      "text/plain": [
       "[<matplotlib.lines.Line2D at 0x1c36b40438>]"
      ]
     },
     "execution_count": 27,
     "metadata": {},
     "output_type": "execute_result"
    },
    {
     "data": {
      "image/png": "[encoded data removed]",
      "text/plain": [
       "<Figure size 432x288 with 1 Axes>"
      ]
     },
     "metadata": {},
     "output_type": "display_data"
    }
   ],
   "source": [
    "plt.plot(cnn_history.history['acc'])\n",
    "plt.plot(cnn_history.history['val_acc'])"
   ]
  },
  {
   "cell_type": "code",
   "execution_count": 28,
   "metadata": {},
   "outputs": [],
   "source": [
    "model = load_model('pretrained_CNN.h5')"
   ]
  },
  {
   "cell_type": "code",
   "execution_count": 29,
   "metadata": {},
   "outputs": [
    {
     "name": "stdout",
     "output_type": "stream",
     "text": [
      "Test accuracy: 0.9506666666666667\n"
     ]
    }
   ],
   "source": [
    "score = model.evaluate(X_test, y_test, verbose=0)\n",
    "print('Test accuracy:', score[1])\n",
    "y_pred_cnn2 = model.predict(X_test)"
   ]
  },
  {
   "cell_type": "code",
   "execution_count": 30,
   "metadata": {},
   "outputs": [
    {
     "name": "stdout",
     "output_type": "stream",
     "text": [
      "This is a spiral Galaxy\n"
     ]
    },
    {
     "data": {
      "image/png": "[encoded data removed]",
      "text/plain": [
       "<Figure size 432x288 with 1 Axes>"
      ]
     },
     "metadata": {},
     "output_type": "display_data"
    }
   ],
   "source": [
    "t = np.random.randint(len(X_test))\n",
    "plt.imshow(X_test[t, :, :]*255)\n",
    "print_class(y_pred_cnn2[t])"
   ]
  },
  {
   "cell_type": "markdown",
   "metadata": {},
   "source": [
    "Save and reload the trained model"
   ]
  },
  {
   "cell_type": "code",
   "execution_count": 31,
   "metadata": {},
   "outputs": [],
   "source": [
    "#model.save('pretrained_CNN.h5')\n",
    "#model = load_model('pretrained_CNN.h5')"
   ]
  },
  {
   "cell_type": "markdown",
   "metadata": {},
   "source": [
    "some inspection...\n",
    "\n",
    "we extract from the trained neural network the values of weights in each filter and plot them"
   ]
  },
  {
   "cell_type": "code",
   "execution_count": 32,
   "metadata": {},
   "outputs": [],
   "source": [
    "conv1_lyr = model.layers[0]"
   ]
  },
  {
   "cell_type": "code",
   "execution_count": 33,
   "metadata": {},
   "outputs": [],
   "source": [
    "w_conv1 = conv1_lyr.get_weights()"
   ]
  },
  {
   "cell_type": "code",
   "execution_count": 34,
   "metadata": {},
   "outputs": [],
   "source": [
    "w_conv1 = np.array(w_conv1)"
   ]
  },
  {
   "cell_type": "code",
   "execution_count": 35,
   "metadata": {},
   "outputs": [
    {
     "data": {
      "text/plain": [
       "(5, 5, 3, 16)"
      ]
     },
     "execution_count": 35,
     "metadata": {},
     "output_type": "execute_result"
    }
   ],
   "source": [
    "w_conv1[0].shape"
   ]
  },
  {
   "cell_type": "code",
   "execution_count": 36,
   "metadata": {},
   "outputs": [
    {
     "data": {
      "text/plain": [
       "<matplotlib.image.AxesImage at 0x1c38ef91d0>"
      ]
     },
     "execution_count": 36,
     "metadata": {},
     "output_type": "execute_result"
    },
    {
     "data": {
      "image/png": "[encoded data removed]",
      "text/plain": [
       "<Figure size 432x288 with 1 Axes>"
      ]
     },
     "metadata": {},
     "output_type": "display_data"
    }
   ],
   "source": [
    "plt.subplot(132)\n",
    "plt.imshow(w_conv1[0][:,:,1,2], cmap='binary')"
   ]
  },
  {
   "cell_type": "code",
   "execution_count": null,
   "metadata": {},
   "outputs": [],
   "source": []
  }
 ],
 "metadata": {
  "kernelspec": {
   "display_name": "Python 3",
   "language": "python",
   "name": "python3"
  },
  "language_info": {
   "codemirror_mode": {
    "name": "ipython",
    "version": 3
   },
   "file_extension": ".py",
   "mimetype": "text/x-python",
   "name": "python",
   "nbconvert_exporter": "python",
   "pygments_lexer": "ipython3",
   "version": "3.6.8"
  }
 },
 "nbformat": 4,
 "nbformat_minor": 4
}
